{
 "cells": [
  {
   "cell_type": "code",
   "execution_count": 1,
   "id": "be2d391c",
   "metadata": {},
   "outputs": [],
   "source": [
    "import os\n",
    "import boto3\n",
    "from dotenv import load_dotenv\n",
    "import io \n",
    "import pandas as pd\n",
    "\n",
    "load_dotenv()\n",
    "\n",
    "YC_ACCESS_KEY_ID = os.getenv(\"YC_ACCESS_KEY_ID\")\n",
    "YC_SECRET_ACCESS_KEY = os.getenv(\"YC_SECRET_ACCESS_KEY\")\n",
    "YC_ENDPOINT_URL = os.getenv(\"YC_ENDPOINT_URL\")\n",
    "YC_BUCKET_NAME = os.getenv(\"YC_BUCKET_NAME\")"
   ]
  },
  {
   "cell_type": "code",
   "execution_count": null,
   "id": "174a072d",
   "metadata": {},
   "outputs": [],
   "source": [
    "session = boto3.session.Session()\n",
    "s3_client = session.client(\n",
    "    service_name='s3',  \n",
    "    endpoint_url=YC_ENDPOINT_URL,\n",
    "    aws_access_key_id=YC_ACCESS_KEY_ID,\n",
    "    aws_secret_access_key=YC_SECRET_ACCESS_KEY\n",
    ")"
   ]
  },
  {
   "cell_type": "code",
   "execution_count": null,
   "id": "cba8390e",
   "metadata": {},
   "outputs": [],
   "source": []
  },
  {
   "cell_type": "code",
   "execution_count": 9,
   "id": "b5bcd333",
   "metadata": {},
   "outputs": [],
   "source": [
    "import gzip\n",
    "\n",
    "\n",
    "data_location = \"final_train_datasets/\"\n",
    "file_names = [\"0m_lags.csv.gzip\", \"3m_lags.csv.gzip\", \"6m_lags.csv.gzip\", \"12m_lags.csv.gzip\"]\n",
    "\n",
    "\n",
    "data_storage = dict()\n",
    "for file_name in file_names:\n",
    "    response = s3_client.get_object(Bucket=YC_BUCKET_NAME, Key=f'{data_location}{file_name}')\n",
    "    data_storage[file_name[: len(file_name) - 9]] = pd.read_csv(io.BytesIO(response['Body'].read()), compression='gzip')\n",
    "\n",
    "\n"
   ]
  },
  {
   "cell_type": "code",
   "execution_count": 4,
   "id": "c64e2676",
   "metadata": {},
   "outputs": [],
   "source": [
    "import sys\n",
    "sys.path.append('../src')\n",
    "from validation_schema import TimeSeriesRollingValidator"
   ]
  },
  {
   "cell_type": "code",
   "execution_count": 13,
   "id": "f5c628fd",
   "metadata": {},
   "outputs": [
    {
     "data": {
      "text/plain": [
       "np.int64(33)"
      ]
     },
     "execution_count": 13,
     "metadata": {},
     "output_type": "execute_result"
    }
   ],
   "source": [
    "data_storage['0m_lags']['date_block_num'].max()"
   ]
  },
  {
   "cell_type": "markdown",
   "id": "417ca320",
   "metadata": {},
   "source": [
    "Generating a sliding window for model evaluation."
   ]
  },
  {
   "cell_type": "code",
   "execution_count": 5,
   "id": "20bf62cc",
   "metadata": {},
   "outputs": [],
   "source": [
    "validator = TimeSeriesRollingValidator(data_storage[\"0m_lags\"], 'date_block_num', train_window=24, test_window=1)\n",
    "splits = validator.split_data_rolling()"
   ]
  },
  {
   "cell_type": "code",
   "execution_count": 6,
   "id": "11dfeb69",
   "metadata": {},
   "outputs": [],
   "source": [
    "from sklearn.linear_model import LinearRegression\n",
    "from sklearn.metrics import root_mean_squared_error"
   ]
  },
  {
   "cell_type": "code",
   "execution_count": 7,
   "id": "5780c4a0",
   "metadata": {},
   "outputs": [],
   "source": [
    "models = list()\n",
    "for train_set, val_set, test_set in splits:\n",
    "    X_train = train_set.drop(columns=['item_cnt_month'])\n",
    "    y_train = train_set['item_cnt_month']\n",
    "    \n",
    "    X_val = val_set.drop(columns=['item_cnt_month'])\n",
    "    y_val = val_set['item_cnt_month']\n",
    "    \n",
    "    X_test = test_set.drop(columns=['item_cnt_month'])\n",
    "    y_test = test_set['item_cnt_month']\n",
    "    \n",
    "    model = LinearRegression()\n",
    "    model.fit(X_train, y_train)\n",
    "    \n",
    "    models.append(model)"
   ]
  },
  {
   "cell_type": "code",
   "execution_count": 8,
   "id": "b3bc2553",
   "metadata": {},
   "outputs": [
    {
     "data": {
      "text/html": [
       "<div>\n",
       "<style scoped>\n",
       "    .dataframe tbody tr th:only-of-type {\n",
       "        vertical-align: middle;\n",
       "    }\n",
       "\n",
       "    .dataframe tbody tr th {\n",
       "        vertical-align: top;\n",
       "    }\n",
       "\n",
       "    .dataframe thead th {\n",
       "        text-align: right;\n",
       "    }\n",
       "</style>\n",
       "<table border=\"1\" class=\"dataframe\">\n",
       "  <thead>\n",
       "    <tr style=\"text-align: right;\">\n",
       "      <th></th>\n",
       "      <th>model</th>\n",
       "      <th>rmse</th>\n",
       "      <th>train_months</th>\n",
       "      <th>val_months</th>\n",
       "      <th>test_months</th>\n",
       "    </tr>\n",
       "  </thead>\n",
       "  <tbody>\n",
       "    <tr>\n",
       "      <th>0</th>\n",
       "      <td>LinearRegression</td>\n",
       "      <td>2.035288</td>\n",
       "      <td>1242622</td>\n",
       "      <td>46218</td>\n",
       "      <td>41008</td>\n",
       "    </tr>\n",
       "    <tr>\n",
       "      <th>1</th>\n",
       "      <td>LinearRegression</td>\n",
       "      <td>2.081189</td>\n",
       "      <td>1226186</td>\n",
       "      <td>41008</td>\n",
       "      <td>40039</td>\n",
       "    </tr>\n",
       "    <tr>\n",
       "      <th>2</th>\n",
       "      <td>LinearRegression</td>\n",
       "      <td>2.486169</td>\n",
       "      <td>1207732</td>\n",
       "      <td>40039</td>\n",
       "      <td>32463</td>\n",
       "    </tr>\n",
       "    <tr>\n",
       "      <th>3</th>\n",
       "      <td>LinearRegression</td>\n",
       "      <td>2.129647</td>\n",
       "      <td>1184277</td>\n",
       "      <td>32463</td>\n",
       "      <td>31799</td>\n",
       "    </tr>\n",
       "    <tr>\n",
       "      <th>4</th>\n",
       "      <td>LinearRegression</td>\n",
       "      <td>2.056785</td>\n",
       "      <td>1162536</td>\n",
       "      <td>31799</td>\n",
       "      <td>31605</td>\n",
       "    </tr>\n",
       "    <tr>\n",
       "      <th>...</th>\n",
       "      <td>...</td>\n",
       "      <td>...</td>\n",
       "      <td>...</td>\n",
       "      <td>...</td>\n",
       "      <td>...</td>\n",
       "    </tr>\n",
       "    <tr>\n",
       "      <th>76</th>\n",
       "      <td>LinearRegression</td>\n",
       "      <td>2.040697</td>\n",
       "      <td>1162536</td>\n",
       "      <td>31799</td>\n",
       "      <td>31605</td>\n",
       "    </tr>\n",
       "    <tr>\n",
       "      <th>77</th>\n",
       "      <td>LinearRegression</td>\n",
       "      <td>1.824572</td>\n",
       "      <td>1141404</td>\n",
       "      <td>31605</td>\n",
       "      <td>33248</td>\n",
       "    </tr>\n",
       "    <tr>\n",
       "      <th>78</th>\n",
       "      <td>LinearRegression</td>\n",
       "      <td>2.011911</td>\n",
       "      <td>1117272</td>\n",
       "      <td>33248</td>\n",
       "      <td>33183</td>\n",
       "    </tr>\n",
       "    <tr>\n",
       "      <th>79</th>\n",
       "      <td>LinearRegression</td>\n",
       "      <td>2.475891</td>\n",
       "      <td>1092955</td>\n",
       "      <td>33183</td>\n",
       "      <td>29271</td>\n",
       "    </tr>\n",
       "    <tr>\n",
       "      <th>80</th>\n",
       "      <td>LinearRegression</td>\n",
       "      <td>2.247612</td>\n",
       "      <td>1068589</td>\n",
       "      <td>29271</td>\n",
       "      <td>30950</td>\n",
       "    </tr>\n",
       "  </tbody>\n",
       "</table>\n",
       "<p>81 rows × 5 columns</p>\n",
       "</div>"
      ],
      "text/plain": [
       "               model      rmse  train_months  val_months  test_months\n",
       "0   LinearRegression  2.035288       1242622       46218        41008\n",
       "1   LinearRegression  2.081189       1226186       41008        40039\n",
       "2   LinearRegression  2.486169       1207732       40039        32463\n",
       "3   LinearRegression  2.129647       1184277       32463        31799\n",
       "4   LinearRegression  2.056785       1162536       31799        31605\n",
       "..               ...       ...           ...         ...          ...\n",
       "76  LinearRegression  2.040697       1162536       31799        31605\n",
       "77  LinearRegression  1.824572       1141404       31605        33248\n",
       "78  LinearRegression  2.011911       1117272       33248        33183\n",
       "79  LinearRegression  2.475891       1092955       33183        29271\n",
       "80  LinearRegression  2.247612       1068589       29271        30950\n",
       "\n",
       "[81 rows x 5 columns]"
      ]
     },
     "execution_count": 8,
     "metadata": {},
     "output_type": "execute_result"
    }
   ],
   "source": [
    "validator.validate(models, splits, \"item_cnt_month\")"
   ]
  },
  {
   "cell_type": "markdown",
   "id": "c0958985",
   "metadata": {},
   "source": [
    "I've used a **rolling-window forecast** approach to evaluate my model. This is the gold standard for time series, as it prevents data leakage and provides a realistic measure of future performance. I used the last month for validation and the preceding months for training, which accurately simulates a real-world forecasting scenario."
   ]
  },
  {
   "cell_type": "code",
   "execution_count": null,
   "id": "f970a372",
   "metadata": {},
   "outputs": [],
   "source": []
  },
  {
   "cell_type": "code",
   "execution_count": null,
   "id": "0b170001",
   "metadata": {},
   "outputs": [],
   "source": []
  }
 ],
 "metadata": {
  "kernelspec": {
   "display_name": "Python (Jupyter)",
   "language": "python",
   "name": "jupyter_venv"
  },
  "language_info": {
   "codemirror_mode": {
    "name": "ipython",
    "version": 3
   },
   "file_extension": ".py",
   "mimetype": "text/x-python",
   "name": "python",
   "nbconvert_exporter": "python",
   "pygments_lexer": "ipython3",
   "version": "3.12.3"
  }
 },
 "nbformat": 4,
 "nbformat_minor": 5
}
