{
  "cells": [
    {
      "cell_type": "markdown",
      "metadata": {},
      "source": [
        "# Data loading"
      ]
    },
    {
      "cell_type": "markdown",
      "metadata": {
        "colab_type": "text",
        "id": "view-in-github"
      },
      "source": [
        "<a href=\"https://colab.research.google.com/github/FuturisticLover123/InnowiseInternship/blob/main/task1/dqc.ipynb\" target=\"_parent\"><img src=\"https://colab.research.google.com/assets/colab-badge.svg\" alt=\"Open In Colab\"/></a>"
      ]
    },
    {
      "cell_type": "code",
      "execution_count": 12,
      "metadata": {},
      "outputs": [],
      "source": [
        "import os\n",
        "import boto3\n",
        "from dotenv import load_dotenv\n",
        "import io \n",
        "import pandas as pd\n",
        "\n",
        "load_dotenv()\n",
        "\n",
        "YC_ACCESS_KEY_ID = os.getenv(\"YC_ACCESS_KEY_ID\")\n",
        "YC_SECRET_ACCESS_KEY = os.getenv(\"YC_SECRET_ACCESS_KEY\")\n",
        "YC_ENDPOINT_URL = os.getenv(\"YC_ENDPOINT_URL\")\n",
        "YC_BUCKET_NAME = os.getenv(\"YC_BUCKET_NAME\")"
      ]
    },
    {
      "cell_type": "code",
      "execution_count": 13,
      "metadata": {},
      "outputs": [],
      "source": [
        "session = boto3.session.Session()\n",
        "s3_client = session.client(\n",
        "    service_name='s3',\n",
        "    endpoint_url=YC_ENDPOINT_URL,\n",
        "    aws_access_key_id=YC_ACCESS_KEY_ID,\n",
        "    aws_secret_access_key=YC_SECRET_ACCESS_KEY\n",
        ")"
      ]
    },
    {
      "cell_type": "code",
      "execution_count": 14,
      "metadata": {},
      "outputs": [],
      "source": [
        "import gzip\n",
        "\n",
        "file_names = [\"item_categories.csv.gzip\", \"items.csv.gzip\", \"sample_submission.csv.gzip\", \"shops.csv.gzip\", \"test.csv.gzip\", \"sales_train.csv.gzip\"]\n",
        "data_location = \"compressed_data/\"\n",
        "\n",
        "data_storage = dict()\n",
        "for file_name in file_names:\n",
        "    response = s3_client.get_object(Bucket=YC_BUCKET_NAME, Key=f'{data_location}{file_name}')\n",
        "    data_storage[file_name[: len(file_name) - 9]] = pd.read_csv(io.BytesIO(response['Body'].read()), compression='gzip')\n",
        "\n",
        "\n",
        "train = data_storage[\"sales_train\"]"
      ]
    },
    {
      "cell_type": "code",
      "execution_count": 15,
      "metadata": {},
      "outputs": [],
      "source": [
        "import pandas as pd\n",
        "import numpy as np\n",
        "import seaborn as sns\n"
      ]
    },
    {
      "cell_type": "markdown",
      "metadata": {},
      "source": [
        "# Data Quality Check"
      ]
    },
    {
      "cell_type": "markdown",
      "metadata": {},
      "source": [
        "## Completeness Test"
      ]
    },
    {
      "cell_type": "code",
      "execution_count": 16,
      "metadata": {},
      "outputs": [
        {
          "name": "stdout",
          "output_type": "stream",
          "text": [
            "--- Completeness Test for 'item_categories' ---\n",
            "✅ Test passed: No missing values.\n",
            "--------------------------------------------------\n",
            "--- Completeness Test for 'items' ---\n",
            "✅ Test passed: No missing values.\n",
            "--------------------------------------------------\n",
            "--- Completeness Test for 'sample_submission' ---\n",
            "✅ Test passed: No missing values.\n",
            "--------------------------------------------------\n",
            "--- Completeness Test for 'shops' ---\n",
            "✅ Test passed: No missing values.\n",
            "--------------------------------------------------\n",
            "--- Completeness Test for 'test' ---\n",
            "✅ Test passed: No missing values.\n",
            "--------------------------------------------------\n",
            "--- Completeness Test for 'sales_train' ---\n",
            "✅ Test passed: No missing values.\n",
            "--------------------------------------------------\n"
          ]
        }
      ],
      "source": [
        "def check_completeness(df: pd.DataFrame, df_name: str) -> None:\n",
        "    print(f\"--- Completeness Test for '{df_name}' ---\")\n",
        "    \n",
        "    missing_info = df.isnull().sum().to_frame('missing_count')\n",
        "    missing_info['missing_percent'] = (missing_info['missing_count'] / len(df)) * 100\n",
        "    \n",
        "    missing_columns = missing_info[missing_info['missing_count'] > 0]\n",
        "    \n",
        "    if missing_columns.empty:\n",
        "        print(\"✅ Test passed: No missing values.\")\n",
        "    else:\n",
        "        print(\"❌ Test failed: Missing values found in:\")\n",
        "        print(missing_columns.to_markdown(numalign=\"left\", stralign=\"left\"))\n",
        "        \n",
        "    print(\"-\" * 50)\n",
        "\n",
        "for df_name in data_storage:\n",
        "    check_completeness(data_storage[df_name], df_name)"
      ]
    },
    {
      "cell_type": "markdown",
      "metadata": {},
      "source": [
        "All the data has no missing values."
      ]
    },
    {
      "cell_type": "markdown",
      "metadata": {},
      "source": [
        "## Completeness Test"
      ]
    },
    {
      "cell_type": "code",
      "execution_count": 17,
      "metadata": {},
      "outputs": [
        {
          "name": "stdout",
          "output_type": "stream",
          "text": [
            "--- Running Uniqueness Test for 'item_id' in 'items' ---\n",
            "✅ Test passed: All values in 'item_id' are unique.\n",
            "--------------------------------------------------\n",
            "--- Running Uniqueness Test for 'shop_id' in 'shops' ---\n",
            "✅ Test passed: All values in 'shop_id' are unique.\n",
            "--------------------------------------------------\n",
            "--- Running Uniqueness Test for 'item_category_id' in 'item_categories' ---\n",
            "✅ Test passed: All values in 'item_category_id' are unique.\n",
            "--------------------------------------------------\n"
          ]
        }
      ],
      "source": [
        "def check_uniqueness(df: pd.DataFrame, df_name: str, id_column: str) -> None:\n",
        "    print(f\"--- Running Uniqueness Test for '{id_column}' in '{df_name}' ---\")\n",
        "\n",
        "    num_rows = len(df)\n",
        "    num_unique_ids = df[id_column].nunique()\n",
        "\n",
        "    if num_rows == num_unique_ids:\n",
        "        print(f\"✅ Test passed: All values in '{id_column}' are unique.\")\n",
        "    else:\n",
        "        num_duplicates = num_rows - num_unique_ids\n",
        "        print(f\"❌ Test failed: Found {num_duplicates} duplicate(s) in '{id_column}'.\")\n",
        "    \n",
        "    print(\"-\" * 50)\n",
        "\n",
        "\n",
        "check_uniqueness(data_storage['items'], 'items', 'item_id')\n",
        "check_uniqueness(data_storage['shops'], 'shops', 'shop_id')\n",
        "check_uniqueness(data_storage['item_categories'], 'item_categories', 'item_category_id')\n"
      ]
    },
    {
      "cell_type": "markdown",
      "metadata": {},
      "source": [
        "no duplicates based on id column"
      ]
    },
    {
      "cell_type": "markdown",
      "metadata": {},
      "source": [
        "## Validity Tests"
      ]
    },
    {
      "cell_type": "markdown",
      "metadata": {},
      "source": [
        "This code performs a **validity test** to check for negative values in the `item_price` and `item_cnt_day` columns. It is a crucial step in data quality control to identify potential **data entry errors** or anomalies, as these fields should logically contain non-negative values."
      ]
    },
    {
      "cell_type": "code",
      "execution_count": 18,
      "metadata": {},
      "outputs": [
        {
          "name": "stdout",
          "output_type": "stream",
          "text": [
            "--- Checking for non-negativity for 'sales_train' ---\n",
            "❌ Found 1 negative value(s) in 'item_price'.\n",
            "❌ Found 7356 negative value(s) in 'item_cnt_day'.\n",
            "--------------------------------------------------\n"
          ]
        }
      ],
      "source": [
        "def check_non_negative(df, df_name, columns):\n",
        "    \"\"\"\n",
        "    Checks if specified columns in a DataFrame contain negative values.\n",
        "    \"\"\"\n",
        "    print(f\"--- Checking for non-negativity for '{df_name}' ---\")\n",
        "    \n",
        "    for col in columns:\n",
        "        if (df[col] < 0).any():\n",
        "            count = (df[col] < 0).sum()\n",
        "            print(f\"❌ Found {count} negative value(s) in '{col}'.\")\n",
        "        else:\n",
        "            print(f\"✅ Column '{col}' contains only non-negative values.\")\n",
        "    print(\"-\" * 50)\n",
        "\n",
        "\n",
        "check_non_negative(data_storage['sales_train'], 'sales_train', ['item_price', 'item_cnt_day'])"
      ]
    },
    {
      "cell_type": "markdown",
      "metadata": {},
      "source": [
        "negative item price is surely an  anomaly"
      ]
    },
    {
      "cell_type": "markdown",
      "metadata": {},
      "source": [
        "negative item_cnt_day might be returns \n",
        "\n",
        "need to deal somehow with it"
      ]
    },
    {
      "cell_type": "markdown",
      "metadata": {},
      "source": [
        "### Returns treory"
      ]
    },
    {
      "cell_type": "code",
      "execution_count": 6,
      "metadata": {},
      "outputs": [
        {
          "data": {
            "text/html": [
              "<div>\n",
              "<style scoped>\n",
              "    .dataframe tbody tr th:only-of-type {\n",
              "        vertical-align: middle;\n",
              "    }\n",
              "\n",
              "    .dataframe tbody tr th {\n",
              "        vertical-align: top;\n",
              "    }\n",
              "\n",
              "    .dataframe thead th {\n",
              "        text-align: right;\n",
              "    }\n",
              "</style>\n",
              "<table border=\"1\" class=\"dataframe\">\n",
              "  <thead>\n",
              "    <tr style=\"text-align: right;\">\n",
              "      <th></th>\n",
              "      <th>date</th>\n",
              "      <th>date_block_num</th>\n",
              "      <th>shop_id</th>\n",
              "      <th>item_id</th>\n",
              "      <th>item_price</th>\n",
              "      <th>item_cnt_day</th>\n",
              "    </tr>\n",
              "  </thead>\n",
              "  <tbody>\n",
              "    <tr>\n",
              "      <th>0</th>\n",
              "      <td>02.01.2013</td>\n",
              "      <td>0</td>\n",
              "      <td>59</td>\n",
              "      <td>22154</td>\n",
              "      <td>999.00</td>\n",
              "      <td>1.0</td>\n",
              "    </tr>\n",
              "    <tr>\n",
              "      <th>1</th>\n",
              "      <td>03.01.2013</td>\n",
              "      <td>0</td>\n",
              "      <td>25</td>\n",
              "      <td>2552</td>\n",
              "      <td>899.00</td>\n",
              "      <td>1.0</td>\n",
              "    </tr>\n",
              "    <tr>\n",
              "      <th>2</th>\n",
              "      <td>05.01.2013</td>\n",
              "      <td>0</td>\n",
              "      <td>25</td>\n",
              "      <td>2552</td>\n",
              "      <td>899.00</td>\n",
              "      <td>-1.0</td>\n",
              "    </tr>\n",
              "    <tr>\n",
              "      <th>3</th>\n",
              "      <td>06.01.2013</td>\n",
              "      <td>0</td>\n",
              "      <td>25</td>\n",
              "      <td>2554</td>\n",
              "      <td>1709.05</td>\n",
              "      <td>1.0</td>\n",
              "    </tr>\n",
              "    <tr>\n",
              "      <th>4</th>\n",
              "      <td>15.01.2013</td>\n",
              "      <td>0</td>\n",
              "      <td>25</td>\n",
              "      <td>2555</td>\n",
              "      <td>1099.00</td>\n",
              "      <td>1.0</td>\n",
              "    </tr>\n",
              "  </tbody>\n",
              "</table>\n",
              "</div>"
            ],
            "text/plain": [
              "         date  date_block_num  shop_id  item_id  item_price  item_cnt_day\n",
              "0  02.01.2013               0       59    22154      999.00           1.0\n",
              "1  03.01.2013               0       25     2552      899.00           1.0\n",
              "2  05.01.2013               0       25     2552      899.00          -1.0\n",
              "3  06.01.2013               0       25     2554     1709.05           1.0\n",
              "4  15.01.2013               0       25     2555     1099.00           1.0"
            ]
          },
          "execution_count": 6,
          "metadata": {},
          "output_type": "execute_result"
        }
      ],
      "source": [
        "train.head()"
      ]
    },
    {
      "cell_type": "markdown",
      "metadata": {},
      "source": [
        "Analysis of Returns\n",
        "This code analyzes a sales dataset to prove that negative transaction quantities are actually product returns, not data errors.\n",
        "\n",
        "It works by splitting the data into two groups: sales (positive quantity) and returns (negative quantity). The key step is to find a matching \"sale\" for each \"return.\" A match is defined by:\n",
        "\n",
        "    The shop_id, item_id, and item_price are identical.\n",
        "\n",
        "    The sale date is earlier than the return date.\n",
        "\n",
        "    The absolute value of the return quantity equals the sale quantity.\n",
        "\n",
        "By counting how many returns successfully find a matching sale, the code calculates the percentage of negative transactions that follow this logical return pattern. A high match percentage suggests the negative values are indeed legitimate returns, providing strong evidence against the data anomaly hypothesis."
      ]
    },
    {
      "cell_type": "code",
      "execution_count": 7,
      "metadata": {},
      "outputs": [
        {
          "name": "stdout",
          "output_type": "stream",
          "text": [
            "Total return transactions: 7356\n",
            "Number of returns with a matching sale found: 4988\n",
            "Percentage of returns with a match found: 67.81%\n"
          ]
        }
      ],
      "source": [
        "returns_df = train[train['item_cnt_day'] < 0].copy()\n",
        "\n",
        "\n",
        "sales_df = train[train['item_cnt_day'] > 0].copy()\n",
        "\n",
        "returns_df['item_cnt_day_abs'] = returns_df['item_cnt_day'].abs()\n",
        "returns_df = returns_df[['date', 'date_block_num', 'shop_id', 'item_id', 'item_price', 'item_cnt_day_abs']].rename(\n",
        "    columns={'date': 'date_return', 'date_block_num': 'date_block_num_return', 'item_cnt_day_abs': 'item_cnt_day_return'}\n",
        ")\n",
        "\n",
        "sales_df = sales_df[['date', 'date_block_num', 'shop_id', 'item_id', 'item_price', 'item_cnt_day']].rename(\n",
        "    columns={'date': 'date_sale', 'date_block_num': 'date_block_num_sale', 'item_cnt_day': 'item_cnt_day_sale'}\n",
        ")\n",
        "\n",
        "matched_transactions = pd.merge(\n",
        "    returns_df,\n",
        "    sales_df,\n",
        "    on=['shop_id', 'item_id', 'item_price'],\n",
        "    how='left'\n",
        ")\n",
        "\n",
        "matched_transactions = matched_transactions[\n",
        "    (matched_transactions['date_block_num_sale'] < matched_transactions['date_block_num_return']) &\n",
        "    (matched_transactions['item_cnt_day_sale'] == matched_transactions['item_cnt_day_return'])\n",
        "]\n",
        "\n",
        "matched_returns = matched_transactions.drop_duplicates(subset=['date_return', 'shop_id', 'item_id'])\n",
        "\n",
        "\n",
        "total_returns = len(returns_df)\n",
        "found_matches = len(matched_returns)\n",
        "match_percentage = (found_matches / total_returns) * 100\n",
        "\n",
        "print(f\"Total return transactions: {total_returns}\")\n",
        "print(f\"Number of returns with a matching sale found: {found_matches}\")\n",
        "print(f\"Percentage of returns with a match found: {match_percentage:.2f}%\")"
      ]
    },
    {
      "cell_type": "markdown",
      "metadata": {},
      "source": [
        "Overview of Results: Transaction Match Percentage\n",
        "\n",
        "Our analysis revealed that 67.81% of transactions with a negative quantity (item_cnt_day) have a corresponding positive sale.\n",
        "\n",
        " These pairs matched on store, item,\n",
        " price, and quantity, with the sale occurring before the return."
      ]
    },
    {
      "cell_type": "markdown",
      "metadata": {},
      "source": [
        "### ID Validity Test\n",
        "\n",
        "**Description:** This function checks the referential integrity of the data. It confirms that every ID in a transactional table (like `sales_train`) has a corresponding entry in its master table (like `items` or `shops`). This ensures that there are no \"orphaned\" records, which helps maintain data consistency."
      ]
    },
    {
      "cell_type": "code",
      "execution_count": 8,
      "metadata": {},
      "outputs": [
        {
          "name": "stdout",
          "output_type": "stream",
          "text": [
            "--- Checking ID validity for 'sales_train' against 'items' ---\n",
            "✅ All IDs in 'item_id' from 'sales_train' exist in 'items'.\n",
            "--------------------------------------------------\n",
            "--- Checking ID validity for 'test' against 'items' ---\n",
            "✅ All IDs in 'item_id' from 'test' exist in 'items'.\n",
            "--------------------------------------------------\n",
            "--- Checking ID validity for 'sales_train' against 'shops' ---\n",
            "✅ All IDs in 'shop_id' from 'sales_train' exist in 'shops'.\n",
            "--------------------------------------------------\n",
            "--- Checking ID validity for 'test' against 'shops' ---\n",
            "✅ All IDs in 'shop_id' from 'test' exist in 'shops'.\n",
            "--------------------------------------------------\n",
            "--- Checking ID validity for 'items' against 'item_categories' ---\n",
            "✅ All IDs in 'item_category_id' from 'items' exist in 'item_categories'.\n",
            "--------------------------------------------------\n"
          ]
        }
      ],
      "source": [
        "def check_id_validity(transactions_df, master_df, transactions_df_name, master_df_name, id_column):\n",
        "    print(f\"--- Checking ID validity for '{transactions_df_name}' against '{master_df_name}' ---\")\n",
        "    \n",
        "    transaction_ids = transactions_df[id_column].unique()\n",
        "    master_ids = master_df[id_column].unique()\n",
        "    \n",
        "    invalid_ids = [id for id in transaction_ids if id not in master_ids]\n",
        "    \n",
        "    if not invalid_ids:\n",
        "        print(f\"✅ All IDs in '{id_column}' from '{transactions_df_name}' exist in '{master_df_name}'.\")\n",
        "    else:\n",
        "        print(f\"❌ Found invalid IDs in '{id_column}': {len(invalid_ids)} total.\")\n",
        "        print(f\"Examples of invalid IDs: {invalid_ids[:5]}\")\n",
        "    \n",
        "    print(\"-\" * 50)\n",
        "\n",
        "\n",
        "check_id_validity(data_storage['sales_train'], data_storage['items'], 'sales_train', 'items', 'item_id')\n",
        "check_id_validity(data_storage['test'], data_storage['items'], 'test', 'items', 'item_id')\n",
        "check_id_validity(data_storage['sales_train'], data_storage['shops'], 'sales_train', 'shops', 'shop_id')\n",
        "check_id_validity(data_storage['test'], data_storage['shops'], 'test', 'shops', 'shop_id')\n",
        "check_id_validity(data_storage['items'], data_storage['item_categories'], 'items', 'item_categories', 'item_category_id')"
      ]
    },
    {
      "cell_type": "markdown",
      "metadata": {},
      "source": [
        "### Range Test\n",
        "\n",
        "**Description:** This test validates that all values in a numeric column fall within a specified minimum and maximum range. It is essential for identifying outliers or values that are inconsistent with the expected boundaries of the data."
      ]
    },
    {
      "cell_type": "code",
      "execution_count": 9,
      "metadata": {},
      "outputs": [
        {
          "name": "stdout",
          "output_type": "stream",
          "text": [
            "--- Checking range for 'date_block_num' in 'sales_train' ---\n",
            "✅ All values in 'date_block_num' are within the range [0, 33].\n",
            "--------------------------------------------------\n"
          ]
        }
      ],
      "source": [
        "def check_range(df, df_name, column, min_val, max_val):\n",
        "    print(f\"--- Checking range for '{column}' in '{df_name}' ---\")\n",
        "    \n",
        "    out_of_range = df[(df[column] < min_val) | (df[column] > max_val)]\n",
        "    \n",
        "    if out_of_range.empty:\n",
        "        print(f\"✅ All values in '{column}' are within the range [{min_val}, {max_val}].\")\n",
        "    else:\n",
        "        count = len(out_of_range)\n",
        "        print(f\"❌ Found {count} value(s) outside the range.\")\n",
        "        print(f\"Examples of incorrect values: {out_of_range[column].unique()[:5]}\")\n",
        "    \n",
        "    print(\"-\" * 50)\n",
        "\n",
        "\n",
        "check_range(df=data_storage['sales_train'], df_name='sales_train', column='date_block_num', min_val=0, max_val=33)"
      ]
    },
    {
      "cell_type": "markdown",
      "metadata": {},
      "source": [
        "Importing nessesary modules"
      ]
    },
    {
      "cell_type": "code",
      "execution_count": 10,
      "metadata": {},
      "outputs": [],
      "source": [
        "sales = train[train['item_cnt_day'] > 0].copy()\n",
        "returns = train[train['item_cnt_day'] < 0].copy()"
      ]
    },
    {
      "cell_type": "markdown",
      "metadata": {},
      "source": [
        "### Data Aggregation Strategy for Time Series Forecasting\n",
        "\n",
        "The `item_cnt_day` variable is highly volatile. By summing daily sales to a monthly level, we reduce noise and leverage the **Central Limit Theorem** for a more stable, predictable distribution.\n",
        "\n",
        "This approach is crucial as it aligns our feature engineering with the **monthly target variable** of the competition, making our model more effective for forecasting."
      ]
    },
    {
      "cell_type": "code",
      "execution_count": 19,
      "metadata": {
        "colab": {
          "base_uri": "https://localhost:8080/",
          "height": 467
        },
        "id": "oVOWLVC8RwvD",
        "outputId": "f1f7c0a2-e3cf-47bb-db39-872a6181a94d"
      },
      "outputs": [
        {
          "data": {
            "text/plain": [
              "<Axes: xlabel='item_price', ylabel='Density'>"
            ]
          },
          "execution_count": 19,
          "metadata": {},
          "output_type": "execute_result"
        },
        {
          "data": {
            "image/png": "[encoded data removed]",
            "text/plain": [
              "<Figure size 640x480 with 1 Axes>"
            ]
          },
          "metadata": {},
          "output_type": "display_data"
        }
      ],
      "source": [
        "sns.kdeplot(train['item_price'])"
      ]
    },
    {
      "cell_type": "markdown",
      "metadata": {},
      "source": [
        "### Analysis of Item Price Distribution\n",
        "\n",
        "The plot of item prices appears to show an **exponential decay** pattern, where most transactions occur at lower price points and a small number of items are sold at very high prices.\n",
        "\n",
        "This suggests the presence of **anomalies** associated with these extremely high-priced items. These outliers may skew our data analysis and require further cleaning before model training."
      ]
    },
    {
      "cell_type": "code",
      "execution_count": 20,
      "metadata": {},
      "outputs": [
        {
          "data": {
            "text/html": [
              "<div>\n",
              "<style scoped>\n",
              "    .dataframe tbody tr th:only-of-type {\n",
              "        vertical-align: middle;\n",
              "    }\n",
              "\n",
              "    .dataframe tbody tr th {\n",
              "        vertical-align: top;\n",
              "    }\n",
              "\n",
              "    .dataframe thead th {\n",
              "        text-align: right;\n",
              "    }\n",
              "</style>\n",
              "<table border=\"1\" class=\"dataframe\">\n",
              "  <thead>\n",
              "    <tr style=\"text-align: right;\">\n",
              "      <th></th>\n",
              "      <th>item_name</th>\n",
              "      <th>item_id</th>\n",
              "      <th>item_category_id</th>\n",
              "    </tr>\n",
              "  </thead>\n",
              "  <tbody>\n",
              "    <tr>\n",
              "      <th>0</th>\n",
              "      <td>! ВО ВЛАСТИ НАВАЖДЕНИЯ (ПЛАСТ.)         D</td>\n",
              "      <td>0</td>\n",
              "      <td>40</td>\n",
              "    </tr>\n",
              "    <tr>\n",
              "      <th>1</th>\n",
              "      <td>!ABBYY FineReader 12 Professional Edition Full...</td>\n",
              "      <td>1</td>\n",
              "      <td>76</td>\n",
              "    </tr>\n",
              "    <tr>\n",
              "      <th>2</th>\n",
              "      <td>***В ЛУЧАХ СЛАВЫ   (UNV)                    D</td>\n",
              "      <td>2</td>\n",
              "      <td>40</td>\n",
              "    </tr>\n",
              "    <tr>\n",
              "      <th>3</th>\n",
              "      <td>***ГОЛУБАЯ ВОЛНА  (Univ)                      D</td>\n",
              "      <td>3</td>\n",
              "      <td>40</td>\n",
              "    </tr>\n",
              "    <tr>\n",
              "      <th>4</th>\n",
              "      <td>***КОРОБКА (СТЕКЛО)                       D</td>\n",
              "      <td>4</td>\n",
              "      <td>40</td>\n",
              "    </tr>\n",
              "    <tr>\n",
              "      <th>...</th>\n",
              "      <td>...</td>\n",
              "      <td>...</td>\n",
              "      <td>...</td>\n",
              "    </tr>\n",
              "    <tr>\n",
              "      <th>22165</th>\n",
              "      <td>Ядерный титбит 2 [PC, Цифровая версия]</td>\n",
              "      <td>22165</td>\n",
              "      <td>31</td>\n",
              "    </tr>\n",
              "    <tr>\n",
              "      <th>22166</th>\n",
              "      <td>Язык запросов 1С:Предприятия  [Цифровая версия]</td>\n",
              "      <td>22166</td>\n",
              "      <td>54</td>\n",
              "    </tr>\n",
              "    <tr>\n",
              "      <th>22167</th>\n",
              "      <td>Язык запросов 1С:Предприятия 8 (+CD). Хрустале...</td>\n",
              "      <td>22167</td>\n",
              "      <td>49</td>\n",
              "    </tr>\n",
              "    <tr>\n",
              "      <th>22168</th>\n",
              "      <td>Яйцо для Little Inu</td>\n",
              "      <td>22168</td>\n",
              "      <td>62</td>\n",
              "    </tr>\n",
              "    <tr>\n",
              "      <th>22169</th>\n",
              "      <td>Яйцо дракона (Игра престолов)</td>\n",
              "      <td>22169</td>\n",
              "      <td>69</td>\n",
              "    </tr>\n",
              "  </tbody>\n",
              "</table>\n",
              "<p>22170 rows × 3 columns</p>\n",
              "</div>"
            ],
            "text/plain": [
              "                                               item_name  item_id  \\\n",
              "0              ! ВО ВЛАСТИ НАВАЖДЕНИЯ (ПЛАСТ.)         D        0   \n",
              "1      !ABBYY FineReader 12 Professional Edition Full...        1   \n",
              "2          ***В ЛУЧАХ СЛАВЫ   (UNV)                    D        2   \n",
              "3        ***ГОЛУБАЯ ВОЛНА  (Univ)                      D        3   \n",
              "4            ***КОРОБКА (СТЕКЛО)                       D        4   \n",
              "...                                                  ...      ...   \n",
              "22165             Ядерный титбит 2 [PC, Цифровая версия]    22165   \n",
              "22166    Язык запросов 1С:Предприятия  [Цифровая версия]    22166   \n",
              "22167  Язык запросов 1С:Предприятия 8 (+CD). Хрустале...    22167   \n",
              "22168                                Яйцо для Little Inu    22168   \n",
              "22169                      Яйцо дракона (Игра престолов)    22169   \n",
              "\n",
              "       item_category_id  \n",
              "0                    40  \n",
              "1                    76  \n",
              "2                    40  \n",
              "3                    40  \n",
              "4                    40  \n",
              "...                 ...  \n",
              "22165                31  \n",
              "22166                54  \n",
              "22167                49  \n",
              "22168                62  \n",
              "22169                69  \n",
              "\n",
              "[22170 rows x 3 columns]"
            ]
          },
          "execution_count": 20,
          "metadata": {},
          "output_type": "execute_result"
        }
      ],
      "source": [
        "data_storage['items']"
      ]
    },
    {
      "cell_type": "code",
      "execution_count": 21,
      "metadata": {},
      "outputs": [
        {
          "data": {
            "text/html": [
              "<div>\n",
              "<style scoped>\n",
              "    .dataframe tbody tr th:only-of-type {\n",
              "        vertical-align: middle;\n",
              "    }\n",
              "\n",
              "    .dataframe tbody tr th {\n",
              "        vertical-align: top;\n",
              "    }\n",
              "\n",
              "    .dataframe thead th {\n",
              "        text-align: right;\n",
              "    }\n",
              "</style>\n",
              "<table border=\"1\" class=\"dataframe\">\n",
              "  <thead>\n",
              "    <tr style=\"text-align: right;\">\n",
              "      <th></th>\n",
              "      <th>date</th>\n",
              "      <th>date_block_num</th>\n",
              "      <th>shop_id</th>\n",
              "      <th>item_id</th>\n",
              "      <th>item_price</th>\n",
              "      <th>item_cnt_day</th>\n",
              "      <th>item_name</th>\n",
              "      <th>item_category_id</th>\n",
              "    </tr>\n",
              "  </thead>\n",
              "  <tbody>\n",
              "    <tr>\n",
              "      <th>0</th>\n",
              "      <td>17.09.2013</td>\n",
              "      <td>8</td>\n",
              "      <td>12</td>\n",
              "      <td>11365</td>\n",
              "      <td>59200.0</td>\n",
              "      <td>1.0</td>\n",
              "      <td>Доставка (EMS)</td>\n",
              "      <td>9</td>\n",
              "    </tr>\n",
              "    <tr>\n",
              "      <th>1</th>\n",
              "      <td>24.10.2013</td>\n",
              "      <td>9</td>\n",
              "      <td>12</td>\n",
              "      <td>7238</td>\n",
              "      <td>42000.0</td>\n",
              "      <td>1.0</td>\n",
              "      <td>UserGate Proxy &amp; Firewall 6.X до 100 сессий</td>\n",
              "      <td>75</td>\n",
              "    </tr>\n",
              "    <tr>\n",
              "      <th>2</th>\n",
              "      <td>13.12.2013</td>\n",
              "      <td>11</td>\n",
              "      <td>12</td>\n",
              "      <td>6066</td>\n",
              "      <td>307980.0</td>\n",
              "      <td>1.0</td>\n",
              "      <td>Radmin 3  - 522 лиц.</td>\n",
              "      <td>75</td>\n",
              "    </tr>\n",
              "    <tr>\n",
              "      <th>3</th>\n",
              "      <td>20.03.2014</td>\n",
              "      <td>14</td>\n",
              "      <td>25</td>\n",
              "      <td>13199</td>\n",
              "      <td>50999.0</td>\n",
              "      <td>1.0</td>\n",
              "      <td>Коллекционные шахматы (Властелин Колец)</td>\n",
              "      <td>69</td>\n",
              "    </tr>\n",
              "    <tr>\n",
              "      <th>4</th>\n",
              "      <td>20.11.2014</td>\n",
              "      <td>22</td>\n",
              "      <td>12</td>\n",
              "      <td>14173</td>\n",
              "      <td>40900.0</td>\n",
              "      <td>1.0</td>\n",
              "      <td>Лицензия 1С-Битрикс: Управление сайтом - Эксперт</td>\n",
              "      <td>75</td>\n",
              "    </tr>\n",
              "    <tr>\n",
              "      <th>5</th>\n",
              "      <td>29.01.2015</td>\n",
              "      <td>24</td>\n",
              "      <td>12</td>\n",
              "      <td>7241</td>\n",
              "      <td>49782.0</td>\n",
              "      <td>1.0</td>\n",
              "      <td>UserGate Proxy &amp; Firewall 6.X с модулем фильтр...</td>\n",
              "      <td>75</td>\n",
              "    </tr>\n",
              "    <tr>\n",
              "      <th>6</th>\n",
              "      <td>23.10.2015</td>\n",
              "      <td>33</td>\n",
              "      <td>42</td>\n",
              "      <td>13403</td>\n",
              "      <td>42990.0</td>\n",
              "      <td>1.0</td>\n",
              "      <td>Комплект \"Microsoft Xbox One 1TB  Limited Edit...</td>\n",
              "      <td>16</td>\n",
              "    </tr>\n",
              "    <tr>\n",
              "      <th>7</th>\n",
              "      <td>20.10.2015</td>\n",
              "      <td>33</td>\n",
              "      <td>38</td>\n",
              "      <td>13403</td>\n",
              "      <td>41990.0</td>\n",
              "      <td>1.0</td>\n",
              "      <td>Комплект \"Microsoft Xbox One 1TB  Limited Edit...</td>\n",
              "      <td>16</td>\n",
              "    </tr>\n",
              "    <tr>\n",
              "      <th>8</th>\n",
              "      <td>20.10.2015</td>\n",
              "      <td>33</td>\n",
              "      <td>12</td>\n",
              "      <td>13403</td>\n",
              "      <td>41990.0</td>\n",
              "      <td>1.0</td>\n",
              "      <td>Комплект \"Microsoft Xbox One 1TB  Limited Edit...</td>\n",
              "      <td>16</td>\n",
              "    </tr>\n",
              "    <tr>\n",
              "      <th>9</th>\n",
              "      <td>29.10.2015</td>\n",
              "      <td>33</td>\n",
              "      <td>12</td>\n",
              "      <td>13403</td>\n",
              "      <td>42990.0</td>\n",
              "      <td>1.0</td>\n",
              "      <td>Комплект \"Microsoft Xbox One 1TB  Limited Edit...</td>\n",
              "      <td>16</td>\n",
              "    </tr>\n",
              "    <tr>\n",
              "      <th>10</th>\n",
              "      <td>22.10.2015</td>\n",
              "      <td>33</td>\n",
              "      <td>18</td>\n",
              "      <td>13403</td>\n",
              "      <td>41990.0</td>\n",
              "      <td>1.0</td>\n",
              "      <td>Комплект \"Microsoft Xbox One 1TB  Limited Edit...</td>\n",
              "      <td>16</td>\n",
              "    </tr>\n",
              "    <tr>\n",
              "      <th>11</th>\n",
              "      <td>20.10.2015</td>\n",
              "      <td>33</td>\n",
              "      <td>3</td>\n",
              "      <td>13403</td>\n",
              "      <td>42990.0</td>\n",
              "      <td>1.0</td>\n",
              "      <td>Комплект \"Microsoft Xbox One 1TB  Limited Edit...</td>\n",
              "      <td>16</td>\n",
              "    </tr>\n",
              "    <tr>\n",
              "      <th>12</th>\n",
              "      <td>22.10.2015</td>\n",
              "      <td>33</td>\n",
              "      <td>28</td>\n",
              "      <td>13403</td>\n",
              "      <td>40991.0</td>\n",
              "      <td>1.0</td>\n",
              "      <td>Комплект \"Microsoft Xbox One 1TB  Limited Edit...</td>\n",
              "      <td>16</td>\n",
              "    </tr>\n",
              "    <tr>\n",
              "      <th>13</th>\n",
              "      <td>20.10.2015</td>\n",
              "      <td>33</td>\n",
              "      <td>22</td>\n",
              "      <td>13403</td>\n",
              "      <td>42990.0</td>\n",
              "      <td>1.0</td>\n",
              "      <td>Комплект \"Microsoft Xbox One 1TB  Limited Edit...</td>\n",
              "      <td>16</td>\n",
              "    </tr>\n",
              "  </tbody>\n",
              "</table>\n",
              "</div>"
            ],
            "text/plain": [
              "          date  date_block_num  shop_id  item_id  item_price  item_cnt_day  \\\n",
              "0   17.09.2013               8       12    11365     59200.0           1.0   \n",
              "1   24.10.2013               9       12     7238     42000.0           1.0   \n",
              "2   13.12.2013              11       12     6066    307980.0           1.0   \n",
              "3   20.03.2014              14       25    13199     50999.0           1.0   \n",
              "4   20.11.2014              22       12    14173     40900.0           1.0   \n",
              "5   29.01.2015              24       12     7241     49782.0           1.0   \n",
              "6   23.10.2015              33       42    13403     42990.0           1.0   \n",
              "7   20.10.2015              33       38    13403     41990.0           1.0   \n",
              "8   20.10.2015              33       12    13403     41990.0           1.0   \n",
              "9   29.10.2015              33       12    13403     42990.0           1.0   \n",
              "10  22.10.2015              33       18    13403     41990.0           1.0   \n",
              "11  20.10.2015              33        3    13403     42990.0           1.0   \n",
              "12  22.10.2015              33       28    13403     40991.0           1.0   \n",
              "13  20.10.2015              33       22    13403     42990.0           1.0   \n",
              "\n",
              "                                            item_name  item_category_id  \n",
              "0                                      Доставка (EMS)                 9  \n",
              "1         UserGate Proxy & Firewall 6.X до 100 сессий                75  \n",
              "2                                Radmin 3  - 522 лиц.                75  \n",
              "3             Коллекционные шахматы (Властелин Колец)                69  \n",
              "4    Лицензия 1С-Битрикс: Управление сайтом - Эксперт                75  \n",
              "5   UserGate Proxy & Firewall 6.X с модулем фильтр...                75  \n",
              "6   Комплект \"Microsoft Xbox One 1TB  Limited Edit...                16  \n",
              "7   Комплект \"Microsoft Xbox One 1TB  Limited Edit...                16  \n",
              "8   Комплект \"Microsoft Xbox One 1TB  Limited Edit...                16  \n",
              "9   Комплект \"Microsoft Xbox One 1TB  Limited Edit...                16  \n",
              "10  Комплект \"Microsoft Xbox One 1TB  Limited Edit...                16  \n",
              "11  Комплект \"Microsoft Xbox One 1TB  Limited Edit...                16  \n",
              "12  Комплект \"Microsoft Xbox One 1TB  Limited Edit...                16  \n",
              "13  Комплект \"Microsoft Xbox One 1TB  Limited Edit...                16  "
            ]
          },
          "execution_count": 21,
          "metadata": {},
          "output_type": "execute_result"
        }
      ],
      "source": [
        "train[train['item_price'] > 40000].merge(data_storage['items'], on='item_id', how='left')\n"
      ]
    },
    {
      "cell_type": "markdown",
      "metadata": {},
      "source": [
        "### Analysis of Potential Anomalies in High-Value Transactions\n",
        "\n",
        "Upon reviewing the most expensive items in the dataset, several transactions are highly questionable and likely represent data anomalies.\n",
        "\n",
        "* **Logistical Services:** A delivery service (EMS) priced at 60,000 units is highly improbable and should be considered a data entry error.\n",
        "* **High-End Goods:** A transaction for chess at 50,000 units appears anomalous, as this price point suggests an item of extraordinary value, such as a luxury or custom-made set. Without such a description, the price is suspicious.\n",
        "* **Software Licensing:** A price of 300,000 units for \"Radmin 3\" is a significant outlier. This value is inconsistent with common software pricing and suggests a clear data anomaly.\n",
        "\n",
        "Conversely, other high-value transactions for items like expensive electronics or other premium goods appear plausible and are likely accurate reflections of real-world pricing. Further investigation of these specific entries is recommended to confirm their status before proceeding with model training."
      ]
    }
  ],
  "metadata": {
    "colab": {
      "authorship_tag": "ABX9TyMSG9sH3ABIIWSOR6Y4hyw1",
      "include_colab_link": true,
      "provenance": []
    },
    "kernelspec": {
      "display_name": "jupyter_venv",
      "language": "python",
      "name": "python3"
    },
    "language_info": {
      "codemirror_mode": {
        "name": "ipython",
        "version": 3
      },
      "file_extension": ".py",
      "mimetype": "text/x-python",
      "name": "python",
      "nbconvert_exporter": "python",
      "pygments_lexer": "ipython3",
      "version": "3.12.3"
    }
  },
  "nbformat": 4,
  "nbformat_minor": 0
}
