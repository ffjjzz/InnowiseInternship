{
  "cells": [
    {
      "cell_type": "markdown",
      "metadata": {
        "colab_type": "text",
        "id": "view-in-github"
      },
      "source": [
        "<a href=\"https://colab.research.google.com/github/FuturisticLover123/InnowiseInternship/blob/main/task1/ETL.ipynb\" target=\"_parent\"><img src=\"https://colab.research.google.com/assets/colab-badge.svg\" alt=\"Open In Colab\"/></a>"
      ]
    },
    {
      "cell_type": "code",
      "execution_count": 1,
      "metadata": {
        "id": "njcVvtDLfv8c"
      },
      "outputs": [],
      "source": [
        "import os\n",
        "import boto3\n",
        "from dotenv import load_dotenv\n",
        "import io \n",
        "import pandas as pd\n",
        "\n",
        "load_dotenv()\n",
        "\n",
        "YC_ACCESS_KEY_ID = os.getenv(\"YC_ACCESS_KEY_ID\")\n",
        "YC_SECRET_ACCESS_KEY = os.getenv(\"YC_SECRET_ACCESS_KEY\")\n",
        "YC_ENDPOINT_URL = os.getenv(\"YC_ENDPOINT_URL\")\n",
        "YC_BUCKET_NAME = os.getenv(\"YC_BUCKET_NAME\")"
      ]
    },
    {
      "cell_type": "code",
      "execution_count": 2,
      "metadata": {},
      "outputs": [],
      "source": [
        "session = boto3.session.Session()\n",
        "s3_client = session.client(\n",
        "    service_name='s3',\n",
        "    endpoint_url=YC_ENDPOINT_URL,\n",
        "    aws_access_key_id=YC_ACCESS_KEY_ID,\n",
        "    aws_secret_access_key=YC_SECRET_ACCESS_KEY\n",
        ")"
      ]
    },
    {
      "cell_type": "code",
      "execution_count": 3,
      "metadata": {},
      "outputs": [],
      "source": [
        "import gzip\n",
        "\n",
        "file_names = [\"item_categories.csv.gzip\", \"items.csv.gzip\", \"sales_train.csv.gzip\", \"sample_submission.csv.gzip\", \"shops.csv.gzip\", \"test.csv.gzip\" ]\n",
        "data_location = \"compressed_data/\"\n",
        "\n",
        "data_storage = dict()\n",
        "for file_name in file_names:\n",
        "    response = s3_client.get_object(Bucket=YC_BUCKET_NAME, Key=f'{data_location}{file_name}')\n",
        "    data_storage[file_name[: len(file_name) - 9]] = pd.read_csv(io.BytesIO(response['Body'].read()), compression='gzip')"
      ]
    },
    {
      "cell_type": "code",
      "execution_count": 4,
      "metadata": {},
      "outputs": [],
      "source": [
        "train = data_storage[\"sales_train\"]"
      ]
    },
    {
      "cell_type": "code",
      "execution_count": 5,
      "metadata": {},
      "outputs": [
        {
          "data": {
            "text/html": [
              "<div>\n",
              "<style scoped>\n",
              "    .dataframe tbody tr th:only-of-type {\n",
              "        vertical-align: middle;\n",
              "    }\n",
              "\n",
              "    .dataframe tbody tr th {\n",
              "        vertical-align: top;\n",
              "    }\n",
              "\n",
              "    .dataframe thead th {\n",
              "        text-align: right;\n",
              "    }\n",
              "</style>\n",
              "<table border=\"1\" class=\"dataframe\">\n",
              "  <thead>\n",
              "    <tr style=\"text-align: right;\">\n",
              "      <th></th>\n",
              "      <th>date</th>\n",
              "      <th>date_block_num</th>\n",
              "      <th>shop_id</th>\n",
              "      <th>item_id</th>\n",
              "      <th>item_price</th>\n",
              "      <th>item_cnt_day</th>\n",
              "    </tr>\n",
              "  </thead>\n",
              "  <tbody>\n",
              "    <tr>\n",
              "      <th>0</th>\n",
              "      <td>02.01.2013</td>\n",
              "      <td>0</td>\n",
              "      <td>59</td>\n",
              "      <td>22154</td>\n",
              "      <td>999.00</td>\n",
              "      <td>1.0</td>\n",
              "    </tr>\n",
              "    <tr>\n",
              "      <th>1</th>\n",
              "      <td>03.01.2013</td>\n",
              "      <td>0</td>\n",
              "      <td>25</td>\n",
              "      <td>2552</td>\n",
              "      <td>899.00</td>\n",
              "      <td>1.0</td>\n",
              "    </tr>\n",
              "    <tr>\n",
              "      <th>2</th>\n",
              "      <td>05.01.2013</td>\n",
              "      <td>0</td>\n",
              "      <td>25</td>\n",
              "      <td>2552</td>\n",
              "      <td>899.00</td>\n",
              "      <td>-1.0</td>\n",
              "    </tr>\n",
              "    <tr>\n",
              "      <th>3</th>\n",
              "      <td>06.01.2013</td>\n",
              "      <td>0</td>\n",
              "      <td>25</td>\n",
              "      <td>2554</td>\n",
              "      <td>1709.05</td>\n",
              "      <td>1.0</td>\n",
              "    </tr>\n",
              "    <tr>\n",
              "      <th>4</th>\n",
              "      <td>15.01.2013</td>\n",
              "      <td>0</td>\n",
              "      <td>25</td>\n",
              "      <td>2555</td>\n",
              "      <td>1099.00</td>\n",
              "      <td>1.0</td>\n",
              "    </tr>\n",
              "    <tr>\n",
              "      <th>...</th>\n",
              "      <td>...</td>\n",
              "      <td>...</td>\n",
              "      <td>...</td>\n",
              "      <td>...</td>\n",
              "      <td>...</td>\n",
              "      <td>...</td>\n",
              "    </tr>\n",
              "    <tr>\n",
              "      <th>2935844</th>\n",
              "      <td>10.10.2015</td>\n",
              "      <td>33</td>\n",
              "      <td>25</td>\n",
              "      <td>7409</td>\n",
              "      <td>299.00</td>\n",
              "      <td>1.0</td>\n",
              "    </tr>\n",
              "    <tr>\n",
              "      <th>2935845</th>\n",
              "      <td>09.10.2015</td>\n",
              "      <td>33</td>\n",
              "      <td>25</td>\n",
              "      <td>7460</td>\n",
              "      <td>299.00</td>\n",
              "      <td>1.0</td>\n",
              "    </tr>\n",
              "    <tr>\n",
              "      <th>2935846</th>\n",
              "      <td>14.10.2015</td>\n",
              "      <td>33</td>\n",
              "      <td>25</td>\n",
              "      <td>7459</td>\n",
              "      <td>349.00</td>\n",
              "      <td>1.0</td>\n",
              "    </tr>\n",
              "    <tr>\n",
              "      <th>2935847</th>\n",
              "      <td>22.10.2015</td>\n",
              "      <td>33</td>\n",
              "      <td>25</td>\n",
              "      <td>7440</td>\n",
              "      <td>299.00</td>\n",
              "      <td>1.0</td>\n",
              "    </tr>\n",
              "    <tr>\n",
              "      <th>2935848</th>\n",
              "      <td>03.10.2015</td>\n",
              "      <td>33</td>\n",
              "      <td>25</td>\n",
              "      <td>7460</td>\n",
              "      <td>299.00</td>\n",
              "      <td>1.0</td>\n",
              "    </tr>\n",
              "  </tbody>\n",
              "</table>\n",
              "<p>2935849 rows × 6 columns</p>\n",
              "</div>"
            ],
            "text/plain": [
              "               date  date_block_num  shop_id  item_id  item_price  \\\n",
              "0        02.01.2013               0       59    22154      999.00   \n",
              "1        03.01.2013               0       25     2552      899.00   \n",
              "2        05.01.2013               0       25     2552      899.00   \n",
              "3        06.01.2013               0       25     2554     1709.05   \n",
              "4        15.01.2013               0       25     2555     1099.00   \n",
              "...             ...             ...      ...      ...         ...   \n",
              "2935844  10.10.2015              33       25     7409      299.00   \n",
              "2935845  09.10.2015              33       25     7460      299.00   \n",
              "2935846  14.10.2015              33       25     7459      349.00   \n",
              "2935847  22.10.2015              33       25     7440      299.00   \n",
              "2935848  03.10.2015              33       25     7460      299.00   \n",
              "\n",
              "         item_cnt_day  \n",
              "0                 1.0  \n",
              "1                 1.0  \n",
              "2                -1.0  \n",
              "3                 1.0  \n",
              "4                 1.0  \n",
              "...               ...  \n",
              "2935844           1.0  \n",
              "2935845           1.0  \n",
              "2935846           1.0  \n",
              "2935847           1.0  \n",
              "2935848           1.0  \n",
              "\n",
              "[2935849 rows x 6 columns]"
            ]
          },
          "execution_count": 5,
          "metadata": {},
          "output_type": "execute_result"
        }
      ],
      "source": [
        "train"
      ]
    },
    {
      "cell_type": "code",
      "execution_count": 6,
      "metadata": {
        "id": "YvLFrJU8fzQR"
      },
      "outputs": [
        {
          "name": "stdout",
          "output_type": "stream",
          "text": [
            "Requirement already satisfied: pandas in /home/arseniy/jupyter_venv/lib/python3.12/site-packages (2.3.0)\n",
            "Requirement already satisfied: seaborn in /home/arseniy/jupyter_venv/lib/python3.12/site-packages (0.13.2)\n",
            "Requirement already satisfied: matplotlib in /home/arseniy/jupyter_venv/lib/python3.12/site-packages (3.10.3)\n",
            "Requirement already satisfied: numpy in /home/arseniy/jupyter_venv/lib/python3.12/site-packages (2.3.1)\n",
            "Requirement already satisfied: python-dateutil>=2.8.2 in /home/arseniy/jupyter_venv/lib/python3.12/site-packages (from pandas) (2.9.0.post0)\n",
            "Requirement already satisfied: pytz>=2020.1 in /home/arseniy/jupyter_venv/lib/python3.12/site-packages (from pandas) (2025.2)\n",
            "Requirement already satisfied: tzdata>=2022.7 in /home/arseniy/jupyter_venv/lib/python3.12/site-packages (from pandas) (2025.2)\n",
            "Requirement already satisfied: contourpy>=1.0.1 in /home/arseniy/jupyter_venv/lib/python3.12/site-packages (from matplotlib) (1.3.2)\n",
            "Requirement already satisfied: cycler>=0.10 in /home/arseniy/jupyter_venv/lib/python3.12/site-packages (from matplotlib) (0.12.1)\n",
            "Requirement already satisfied: fonttools>=4.22.0 in /home/arseniy/jupyter_venv/lib/python3.12/site-packages (from matplotlib) (4.58.4)\n",
            "Requirement already satisfied: kiwisolver>=1.3.1 in /home/arseniy/jupyter_venv/lib/python3.12/site-packages (from matplotlib) (1.4.8)\n",
            "Requirement already satisfied: packaging>=20.0 in /home/arseniy/jupyter_venv/lib/python3.12/site-packages (from matplotlib) (25.0)\n",
            "Requirement already satisfied: pillow>=8 in /home/arseniy/jupyter_venv/lib/python3.12/site-packages (from matplotlib) (11.2.1)\n",
            "Requirement already satisfied: pyparsing>=2.3.1 in /home/arseniy/jupyter_venv/lib/python3.12/site-packages (from matplotlib) (3.2.3)\n",
            "Requirement already satisfied: six>=1.5 in /home/arseniy/jupyter_venv/lib/python3.12/site-packages (from python-dateutil>=2.8.2->pandas) (1.17.0)\n",
            "Note: you may need to restart the kernel to use updated packages.\n"
          ]
        }
      ],
      "source": [
        "%pip install pandas seaborn matplotlib numpy\n",
        "\n",
        "import pandas as pd\n",
        "import seaborn as sns\n",
        "import matplotlib.pyplot as plt\n",
        "import numpy as np"
      ]
    },
    {
      "cell_type": "code",
      "execution_count": 7,
      "metadata": {},
      "outputs": [
        {
          "name": "stdout",
          "output_type": "stream",
          "text": [
            "<class 'pandas.core.frame.DataFrame'>\n",
            "RangeIndex: 2935849 entries, 0 to 2935848\n",
            "Data columns (total 6 columns):\n",
            " #   Column          Dtype  \n",
            "---  ------          -----  \n",
            " 0   date            object \n",
            " 1   date_block_num  int64  \n",
            " 2   shop_id         int64  \n",
            " 3   item_id         int64  \n",
            " 4   item_price      float64\n",
            " 5   item_cnt_day    float64\n",
            "dtypes: float64(2), int64(3), object(1)\n",
            "memory usage: 134.4+ MB\n"
          ]
        }
      ],
      "source": [
        "train.info()"
      ]
    },
    {
      "cell_type": "code",
      "execution_count": 8,
      "metadata": {},
      "outputs": [],
      "source": [
        "train['date'] = pd.to_datetime(train['date'], format = '%d.%m.%Y')"
      ]
    },
    {
      "cell_type": "markdown",
      "metadata": {},
      "source": [
        "The objective is to predict sales for the shops listed in the `test` dataset. Globally, we are not concerned with shops from the `train` dataset that do not appear in `test`.\n",
        "\n",
        "These shops would introduce unnecessary dependencies and increase data noise. Therefore, they can be safely removed from the training data."
      ]
    },
    {
      "cell_type": "code",
      "execution_count": 9,
      "metadata": {},
      "outputs": [
        {
          "data": {
            "text/plain": [
              "set()"
            ]
          },
          "execution_count": 9,
          "metadata": {},
          "output_type": "execute_result"
        }
      ],
      "source": [
        "train = train[data_storage[\"sales_train\"]['shop_id'].isin((data_storage[\"test\"])['shop_id'].unique())]\n",
        "set(train[\"shop_id\"].unique()).difference(set(data_storage[\"test\"][\"shop_id\"].unique()))"
      ]
    },
    {
      "cell_type": "code",
      "execution_count": 10,
      "metadata": {
        "id": "kcGZl6hpf8lc"
      },
      "outputs": [],
      "source": [
        "filtered_train = train[(0 <= train['item_cnt_day'])]"
      ]
    },
    {
      "cell_type": "markdown",
      "metadata": {},
      "source": [
        "We are removing negative sales transactions as they represent either data collection errors or product returns. Since our goal is to predict **gross sales** volume (the total number of items sold), these transactions do not align with our objective and would introduce noise into the model."
      ]
    },
    {
      "cell_type": "code",
      "execution_count": 11,
      "metadata": {},
      "outputs": [
        {
          "data": {
            "image/png": "[encoded data removed]",
            "text/plain": [
              "<Figure size 640x480 with 1 Axes>"
            ]
          },
          "metadata": {},
          "output_type": "display_data"
        }
      ],
      "source": [
        "sample_shops = train['shop_id'].value_counts().index[:10]\n",
        "for shop in sample_shops:\n",
        "    sns.kdeplot(data=train[train['shop_id'] == shop], x='item_cnt_day', fill=True, label=f'Shop {shop}')\n",
        "\n",
        "plt.legend()\n",
        "plt.show()"
      ]
    },
    {
      "cell_type": "markdown",
      "metadata": {},
      "source": [
        "Different shops exhibit unique peaks in their sales distributions. To handle outliers, we need to remove large values on a **per-shop basis**, rather than globally. This approach accounts for each shop's distinct sales pattern, ensuring that legitimate high-volume sales for a popular store are not mistakenly treated as anomalies, while genuine outliers for a smaller store are properly identified and removed."
      ]
    },
    {
      "cell_type": "code",
      "execution_count": 12,
      "metadata": {},
      "outputs": [
        {
          "name": "stdout",
          "output_type": "stream",
          "text": [
            "Data size after removing outliers: (2632181, 6)\n",
            "Removed: 303668\n"
          ]
        }
      ],
      "source": [
        "def remove_outliers_by_shop(df, column='item_cnt_day'):\n",
        "    cleaned_dfs = []\n",
        "    for shop_id in df['shop_id'].unique():\n",
        "        shop_data = df[df['shop_id'] == shop_id].copy()\n",
        "        \n",
        "        if len(shop_data) < 10:\n",
        "            cleaned_dfs.append(shop_data)\n",
        "            continue\n",
        "        \n",
        "        Q1 = shop_data[column].quantile(0.25)\n",
        "        Q3 = shop_data[column].quantile(0.75)\n",
        "        IQR = Q3 - Q1\n",
        "        lower_bound = Q1 - 1.5 * IQR\n",
        "        upper_bound = Q3 + 1.5 * IQR\n",
        "        \n",
        "        shop_data_cleaned = shop_data[(shop_data[column] >= lower_bound) & \n",
        "                                      (shop_data[column] <= upper_bound)]\n",
        "        \n",
        "        cleaned_dfs.append(shop_data_cleaned)\n",
        "    \n",
        "    return pd.concat(cleaned_dfs, ignore_index=True)\n",
        "\n",
        "sales_train_cleaned = remove_outliers_by_shop(data_storage[\"sales_train\"], 'item_cnt_day')\n",
        "print(\"Data size after removing outliers:\", sales_train_cleaned.shape)\n",
        "\n",
        "print(\"Removed:\", len(data_storage[\"sales_train\"]) - len(sales_train_cleaned))\n",
        "\n"
      ]
    },
    {
      "cell_type": "markdown",
      "metadata": {},
      "source": [
        "### Data Loss Impact\n",
        "\n",
        "A **10% data loss** has occurred during the cleaning process. This could be a significant amount of data, potentially impacting the model's performance by reducing the sample size and possibly introducing bias if the removed data points were not random. This loss should be carefully evaluated to determine its effect on the final model."
      ]
    },
    {
      "cell_type": "code",
      "execution_count": 13,
      "metadata": {},
      "outputs": [
        {
          "name": "stdout",
          "output_type": "stream",
          "text": [
            "Requirement already satisfied: scikit-learn in /home/arseniy/jupyter_venv/lib/python3.12/site-packages (1.7.1)\n",
            "Requirement already satisfied: numpy>=1.22.0 in /home/arseniy/jupyter_venv/lib/python3.12/site-packages (from scikit-learn) (2.3.1)\n",
            "Requirement already satisfied: scipy>=1.8.0 in /home/arseniy/jupyter_venv/lib/python3.12/site-packages (from scikit-learn) (1.16.0)\n",
            "Requirement already satisfied: joblib>=1.2.0 in /home/arseniy/jupyter_venv/lib/python3.12/site-packages (from scikit-learn) (1.5.1)\n",
            "Requirement already satisfied: threadpoolctl>=3.1.0 in /home/arseniy/jupyter_venv/lib/python3.12/site-packages (from scikit-learn) (3.6.0)\n",
            "Note: you may need to restart the kernel to use updated packages.\n"
          ]
        }
      ],
      "source": [
        "%pip install scikit-learn\n",
        "from sklearn.ensemble import IsolationForest  "
      ]
    },
    {
      "cell_type": "code",
      "execution_count": 14,
      "metadata": {},
      "outputs": [
        {
          "name": "stderr",
          "output_type": "stream",
          "text": [
            "/tmp/ipykernel_200800/2429495425.py:2: SettingWithCopyWarning: \n",
            "A value is trying to be set on a copy of a slice from a DataFrame.\n",
            "Try using .loc[row_indexer,col_indexer] = value instead\n",
            "\n",
            "See the caveats in the documentation: https://pandas.pydata.org/pandas-docs/stable/user_guide/indexing.html#returning-a-view-versus-a-copy\n",
            "  filtered_train['anomaly'] = iso_forest.fit_predict(filtered_train[['item_cnt_day']].values)\n"
          ]
        }
      ],
      "source": [
        "iso_forest = IsolationForest(contamination=0.01, random_state=42)\n",
        "filtered_train['anomaly'] = iso_forest.fit_predict(filtered_train[['item_cnt_day']].values)\n",
        "sales_train_cleaned = filtered_train[filtered_train['anomaly'] == 1].copy()"
      ]
    },
    {
      "cell_type": "code",
      "execution_count": 15,
      "metadata": {},
      "outputs": [
        {
          "data": {
            "image/png": "[encoded data removed]",
            "text/plain": [
              "<Figure size 1000x600 with 1 Axes>"
            ]
          },
          "metadata": {},
          "output_type": "display_data"
        }
      ],
      "source": [
        "plt.figure(figsize=(10, 6))\n",
        "plt.boxplot(sales_train_cleaned['item_price'], vert=False)\n",
        "plt.title('Prices distribution')\n",
        "plt.xlabel('Price')\n",
        "plt.yticks([])\n",
        "plt.grid(True)"
      ]
    },
    {
      "cell_type": "code",
      "execution_count": 16,
      "metadata": {},
      "outputs": [],
      "source": [
        "upper_quantile = sales_train_cleaned['item_price'].quantile(0.99)\n",
        "sales_train_filtered = sales_train_cleaned[sales_train_cleaned['item_price'] <= upper_quantile]\n"
      ]
    },
    {
      "cell_type": "code",
      "execution_count": 17,
      "metadata": {},
      "outputs": [
        {
          "data": {
            "image/png": "[encoded data removed]",
            "text/plain": [
              "<Figure size 1000x600 with 1 Axes>"
            ]
          },
          "metadata": {},
          "output_type": "display_data"
        }
      ],
      "source": [
        "plt.figure(figsize=(10, 6))\n",
        "plt.boxplot(sales_train_filtered['item_price'], vert=False)\n",
        "plt.title('Prices distribution')\n",
        "plt.xlabel('Price')\n",
        "plt.yticks([])\n",
        "plt.grid(True)"
      ]
    },
    {
      "cell_type": "code",
      "execution_count": 18,
      "metadata": {
        "colab": {
          "base_uri": "https://localhost:8080/",
          "height": 467
        },
        "id": "4B5aPLAShAJz",
        "outputId": "e759ffad-c07b-4b21-a580-9f13cbc2b405"
      },
      "outputs": [
        {
          "data": {
            "text/plain": [
              "<Axes: xlabel='item_price', ylabel='Density'>"
            ]
          },
          "execution_count": 18,
          "metadata": {},
          "output_type": "execute_result"
        },
        {
          "data": {
            "image/png": "[encoded data removed]",
            "text/plain": [
              "<Figure size 640x480 with 1 Axes>"
            ]
          },
          "metadata": {},
          "output_type": "display_data"
        }
      ],
      "source": [
        "sns.kdeplot(sales_train_filtered['item_price'])"
      ]
    },
    {
      "cell_type": "code",
      "execution_count": 19,
      "metadata": {},
      "outputs": [
        {
          "name": "stderr",
          "output_type": "stream",
          "text": [
            "/tmp/ipykernel_200800/3443905947.py:1: SettingWithCopyWarning: \n",
            "A value is trying to be set on a copy of a slice from a DataFrame\n",
            "\n",
            "See the caveats in the documentation: https://pandas.pydata.org/pandas-docs/stable/user_guide/indexing.html#returning-a-view-versus-a-copy\n",
            "  sales_train_filtered.drop(columns=['anomaly'], inplace=True)\n"
          ]
        }
      ],
      "source": [
        "sales_train_filtered.drop(columns=['anomaly'], inplace=True)"
      ]
    },
    {
      "cell_type": "markdown",
      "metadata": {},
      "source": [
        "# Shops"
      ]
    },
    {
      "cell_type": "markdown",
      "metadata": {},
      "source": [
        "Some duplicates found in \"shops\"\n",
        "\n",
        "    !Якутск Орджоникидзе, 56 фран\n",
        "    !Якутск ТЦ \"Центральный\" фран\n",
        "    Жуковский ул. Чкалова 39м\n",
        "    РостовНаДону ТРК \"Мегацентр Горизонт\" Островной\t\n",
        "\n",
        "Fixing it"
      ]
    },
    {
      "cell_type": "code",
      "execution_count": 20,
      "metadata": {},
      "outputs": [],
      "source": [
        "sales = train[train['item_cnt_day'] > 0].copy()\n",
        "\n",
        "sales.loc[sales.shop_id == 0, 'shop_id'] = 57\n",
        "data_storage['test'].loc[data_storage['test'].shop_id == 0, 'shop_id'] = 57\n",
        "\n",
        "\n",
        "sales.loc[sales.shop_id == 1, 'shop_id'] = 58\n",
        "data_storage['test'].loc[data_storage['test'].shop_id == 1, 'shop_id'] = 58\n",
        "\n",
        "sales.loc[sales.shop_id == 10, 'shop_id'] = 11\n",
        "data_storage['test'].loc[data_storage['test'].shop_id == 10, 'shop_id'] = 11\n",
        "\n",
        "sales.loc[sales.shop_id == 39, 'shop_id'] = 40\n",
        "data_storage['test'].loc[data_storage['test'].shop_id == 39, 'shop_id'] = 40"
      ]
    },
    {
      "cell_type": "markdown",
      "metadata": {},
      "source": [
        "Adding categirical features shop_city and  shop_type to shops"
      ]
    },
    {
      "cell_type": "code",
      "execution_count": 21,
      "metadata": {},
      "outputs": [],
      "source": [
        "data_storage[\"shops\"]['shop_city'] = data_storage[\"shops\"]['shop_name'].apply(lambda x: x.split()[0])\n",
        "data_storage[\"shops\"]['shop_type'] = data_storage[\"shops\"]['shop_name'].apply(lambda x: x.split()[1])"
      ]
    },
    {
      "cell_type": "markdown",
      "metadata": {},
      "source": [
        "replacing unknown catigories with \"other\""
      ]
    },
    {
      "cell_type": "code",
      "execution_count": 22,
      "metadata": {},
      "outputs": [],
      "source": [
        "values_to_keep =['ТЦ', 'ТРК', 'ТРЦ', 'Торговля', 'ЧС', '\"Распродажа\"', 'МТРЦ', 'Магазин', 'ТК','склад']\n",
        "\n",
        "data_storage[\"shops\"].loc[~data_storage[\"shops\"]['shop_type'].isin(values_to_keep), 'shop_type'] = 'other'"
      ]
    },
    {
      "cell_type": "code",
      "execution_count": 23,
      "metadata": {},
      "outputs": [
        {
          "data": {
            "text/plain": [
              "array(['other', 'ТЦ', 'ТРК', 'ТРЦ', 'Торговля', 'ЧС', '\"Распродажа\"',\n",
              "       'МТРЦ', 'Магазин', 'ТК', 'склад'], dtype=object)"
            ]
          },
          "execution_count": 23,
          "metadata": {},
          "output_type": "execute_result"
        }
      ],
      "source": [
        "data_storage[\"shops\"]['shop_type'].unique()"
      ]
    },
    {
      "cell_type": "markdown",
      "metadata": {},
      "source": [
        "# item categories"
      ]
    },
    {
      "cell_type": "markdown",
      "metadata": {},
      "source": [
        "Adding categiries to items"
      ]
    },
    {
      "cell_type": "code",
      "execution_count": 24,
      "metadata": {},
      "outputs": [],
      "source": [
        "data_storage[\"item_categories\"]['split'] = data_storage[\"item_categories\"]['item_category_name'].str.split('-')\n",
        "data_storage[\"item_categories\"]['item_category_type'] = data_storage[\"item_categories\"]['split'].map(lambda x: x[0].strip())\n",
        "data_storage[\"item_categories\"]['item_category_subtype'] = data_storage[\"item_categories\"]['split'].map(lambda x: x[1].strip() if len(x) > 1 else x[0].strip())\n",
        "data_storage[\"item_categories\"].drop('split', axis = 1, inplace = True)\n"
      ]
    },
    {
      "cell_type": "code",
      "execution_count": 25,
      "metadata": {},
      "outputs": [
        {
          "data": {
            "text/html": [
              "<div>\n",
              "<style scoped>\n",
              "    .dataframe tbody tr th:only-of-type {\n",
              "        vertical-align: middle;\n",
              "    }\n",
              "\n",
              "    .dataframe tbody tr th {\n",
              "        vertical-align: top;\n",
              "    }\n",
              "\n",
              "    .dataframe thead th {\n",
              "        text-align: right;\n",
              "    }\n",
              "</style>\n",
              "<table border=\"1\" class=\"dataframe\">\n",
              "  <thead>\n",
              "    <tr style=\"text-align: right;\">\n",
              "      <th></th>\n",
              "      <th>item_category_name</th>\n",
              "      <th>item_category_id</th>\n",
              "      <th>item_category_type</th>\n",
              "      <th>item_category_subtype</th>\n",
              "    </tr>\n",
              "  </thead>\n",
              "  <tbody>\n",
              "    <tr>\n",
              "      <th>0</th>\n",
              "      <td>PC - Гарнитуры/Наушники</td>\n",
              "      <td>0</td>\n",
              "      <td>PC</td>\n",
              "      <td>Гарнитуры/Наушники</td>\n",
              "    </tr>\n",
              "    <tr>\n",
              "      <th>1</th>\n",
              "      <td>Аксессуары - PS2</td>\n",
              "      <td>1</td>\n",
              "      <td>Аксессуары</td>\n",
              "      <td>PS2</td>\n",
              "    </tr>\n",
              "    <tr>\n",
              "      <th>2</th>\n",
              "      <td>Аксессуары - PS3</td>\n",
              "      <td>2</td>\n",
              "      <td>Аксессуары</td>\n",
              "      <td>PS3</td>\n",
              "    </tr>\n",
              "    <tr>\n",
              "      <th>3</th>\n",
              "      <td>Аксессуары - PS4</td>\n",
              "      <td>3</td>\n",
              "      <td>Аксессуары</td>\n",
              "      <td>PS4</td>\n",
              "    </tr>\n",
              "    <tr>\n",
              "      <th>4</th>\n",
              "      <td>Аксессуары - PSP</td>\n",
              "      <td>4</td>\n",
              "      <td>Аксессуары</td>\n",
              "      <td>PSP</td>\n",
              "    </tr>\n",
              "  </tbody>\n",
              "</table>\n",
              "</div>"
            ],
            "text/plain": [
              "        item_category_name  item_category_id item_category_type  \\\n",
              "0  PC - Гарнитуры/Наушники                 0                 PC   \n",
              "1         Аксессуары - PS2                 1         Аксессуары   \n",
              "2         Аксессуары - PS3                 2         Аксессуары   \n",
              "3         Аксессуары - PS4                 3         Аксессуары   \n",
              "4         Аксессуары - PSP                 4         Аксессуары   \n",
              "\n",
              "  item_category_subtype  \n",
              "0    Гарнитуры/Наушники  \n",
              "1                   PS2  \n",
              "2                   PS3  \n",
              "3                   PS4  \n",
              "4                   PSP  "
            ]
          },
          "execution_count": 25,
          "metadata": {},
          "output_type": "execute_result"
        }
      ],
      "source": [
        "data_storage[\"item_categories\"].head()"
      ]
    },
    {
      "cell_type": "code",
      "execution_count": 26,
      "metadata": {},
      "outputs": [
        {
          "data": {
            "text/plain": [
              "dict_keys(['item_categories', 'items', 'sales_train', 'sample_submission', 'shops', 'test'])"
            ]
          },
          "execution_count": 26,
          "metadata": {},
          "output_type": "execute_result"
        }
      ],
      "source": [
        "data_storage.keys()"
      ]
    },
    {
      "cell_type": "code",
      "execution_count": 27,
      "metadata": {},
      "outputs": [
        {
          "data": {
            "text/html": [
              "<div>\n",
              "<style scoped>\n",
              "    .dataframe tbody tr th:only-of-type {\n",
              "        vertical-align: middle;\n",
              "    }\n",
              "\n",
              "    .dataframe tbody tr th {\n",
              "        vertical-align: top;\n",
              "    }\n",
              "\n",
              "    .dataframe thead th {\n",
              "        text-align: right;\n",
              "    }\n",
              "</style>\n",
              "<table border=\"1\" class=\"dataframe\">\n",
              "  <thead>\n",
              "    <tr style=\"text-align: right;\">\n",
              "      <th></th>\n",
              "      <th>item_name</th>\n",
              "      <th>item_id</th>\n",
              "      <th>item_category_id</th>\n",
              "    </tr>\n",
              "  </thead>\n",
              "  <tbody>\n",
              "    <tr>\n",
              "      <th>0</th>\n",
              "      <td>! ВО ВЛАСТИ НАВАЖДЕНИЯ (ПЛАСТ.)         D</td>\n",
              "      <td>0</td>\n",
              "      <td>40</td>\n",
              "    </tr>\n",
              "    <tr>\n",
              "      <th>1</th>\n",
              "      <td>!ABBYY FineReader 12 Professional Edition Full...</td>\n",
              "      <td>1</td>\n",
              "      <td>76</td>\n",
              "    </tr>\n",
              "    <tr>\n",
              "      <th>2</th>\n",
              "      <td>***В ЛУЧАХ СЛАВЫ   (UNV)                    D</td>\n",
              "      <td>2</td>\n",
              "      <td>40</td>\n",
              "    </tr>\n",
              "    <tr>\n",
              "      <th>3</th>\n",
              "      <td>***ГОЛУБАЯ ВОЛНА  (Univ)                      D</td>\n",
              "      <td>3</td>\n",
              "      <td>40</td>\n",
              "    </tr>\n",
              "    <tr>\n",
              "      <th>4</th>\n",
              "      <td>***КОРОБКА (СТЕКЛО)                       D</td>\n",
              "      <td>4</td>\n",
              "      <td>40</td>\n",
              "    </tr>\n",
              "    <tr>\n",
              "      <th>...</th>\n",
              "      <td>...</td>\n",
              "      <td>...</td>\n",
              "      <td>...</td>\n",
              "    </tr>\n",
              "    <tr>\n",
              "      <th>22165</th>\n",
              "      <td>Ядерный титбит 2 [PC, Цифровая версия]</td>\n",
              "      <td>22165</td>\n",
              "      <td>31</td>\n",
              "    </tr>\n",
              "    <tr>\n",
              "      <th>22166</th>\n",
              "      <td>Язык запросов 1С:Предприятия  [Цифровая версия]</td>\n",
              "      <td>22166</td>\n",
              "      <td>54</td>\n",
              "    </tr>\n",
              "    <tr>\n",
              "      <th>22167</th>\n",
              "      <td>Язык запросов 1С:Предприятия 8 (+CD). Хрустале...</td>\n",
              "      <td>22167</td>\n",
              "      <td>49</td>\n",
              "    </tr>\n",
              "    <tr>\n",
              "      <th>22168</th>\n",
              "      <td>Яйцо для Little Inu</td>\n",
              "      <td>22168</td>\n",
              "      <td>62</td>\n",
              "    </tr>\n",
              "    <tr>\n",
              "      <th>22169</th>\n",
              "      <td>Яйцо дракона (Игра престолов)</td>\n",
              "      <td>22169</td>\n",
              "      <td>69</td>\n",
              "    </tr>\n",
              "  </tbody>\n",
              "</table>\n",
              "<p>22170 rows × 3 columns</p>\n",
              "</div>"
            ],
            "text/plain": [
              "                                               item_name  item_id  \\\n",
              "0              ! ВО ВЛАСТИ НАВАЖДЕНИЯ (ПЛАСТ.)         D        0   \n",
              "1      !ABBYY FineReader 12 Professional Edition Full...        1   \n",
              "2          ***В ЛУЧАХ СЛАВЫ   (UNV)                    D        2   \n",
              "3        ***ГОЛУБАЯ ВОЛНА  (Univ)                      D        3   \n",
              "4            ***КОРОБКА (СТЕКЛО)                       D        4   \n",
              "...                                                  ...      ...   \n",
              "22165             Ядерный титбит 2 [PC, Цифровая версия]    22165   \n",
              "22166    Язык запросов 1С:Предприятия  [Цифровая версия]    22166   \n",
              "22167  Язык запросов 1С:Предприятия 8 (+CD). Хрустале...    22167   \n",
              "22168                                Яйцо для Little Inu    22168   \n",
              "22169                      Яйцо дракона (Игра престолов)    22169   \n",
              "\n",
              "       item_category_id  \n",
              "0                    40  \n",
              "1                    76  \n",
              "2                    40  \n",
              "3                    40  \n",
              "4                    40  \n",
              "...                 ...  \n",
              "22165                31  \n",
              "22166                54  \n",
              "22167                49  \n",
              "22168                62  \n",
              "22169                69  \n",
              "\n",
              "[22170 rows x 3 columns]"
            ]
          },
          "execution_count": 27,
          "metadata": {},
          "output_type": "execute_result"
        }
      ],
      "source": [
        "data_storage[\"items\"]"
      ]
    },
    {
      "cell_type": "markdown",
      "metadata": {},
      "source": [
        "# Uploading data to S3"
      ]
    },
    {
      "cell_type": "code",
      "execution_count": 28,
      "metadata": {},
      "outputs": [],
      "source": [
        "directory = \"filtered_data/\"\n",
        "\n",
        "\n",
        "for key, df in data_storage.items():\n",
        "    buffer = io.BytesIO()\n",
        "    df.to_csv(buffer, index=False, compression='gzip')\n",
        "    buffer.seek(0)\n",
        "    s3_client.upload_fileobj(buffer, YC_BUCKET_NAME, f\"{directory}{key}.csv.gzip\")\n",
        "\n"
      ]
    },
    {
      "cell_type": "code",
      "execution_count": 29,
      "metadata": {},
      "outputs": [],
      "source": [
        "directory = \"filtered_data/\"\n",
        "\n",
        "\n",
        "buffer = io.BytesIO()\n",
        "sales_train_filtered.to_csv(buffer, index=False, compression='gzip')\n",
        "    \n",
        "buffer.seek(0)\n",
        "\n",
        "\n",
        "s3_client.upload_fileobj(buffer, YC_BUCKET_NAME, f\"{directory}train.csv.gzip\")\n"
      ]
    }
  ],
  "metadata": {
    "colab": {
      "authorship_tag": "ABX9TyPeCIm49esSJ2zZjxnH4A+S",
      "include_colab_link": true,
      "provenance": []
    },
    "kernelspec": {
      "display_name": "jupyter_venv",
      "language": "python",
      "name": "python3"
    },
    "language_info": {
      "codemirror_mode": {
        "name": "ipython",
        "version": 3
      },
      "file_extension": ".py",
      "mimetype": "text/x-python",
      "name": "python",
      "nbconvert_exporter": "python",
      "pygments_lexer": "ipython3",
      "version": "3.12.3"
    }
  },
  "nbformat": 4,
  "nbformat_minor": 0
}
